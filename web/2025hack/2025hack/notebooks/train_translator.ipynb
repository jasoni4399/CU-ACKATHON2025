{
 "cells": [
  {
   "attachments": {},
   "cell_type": "markdown",
   "metadata": {},
   "source": [
    "# 1. Prepare your video dataset"
   ]
  },
  {
   "cell_type": "markdown",
   "metadata": {},
   "source": [
    "A video of a person performing sing language.\n",
    "```\n",
    "my_video_folder\n",
    "├───Hksl_bear\n",
    "│   ├───vid_01.mp4\n",
    "│   ├───vid_02.mp4\n",
    "│   ...\n",
    "├───Hksl_bicycle\n",
    "│   ├───vid_01.mp4\n",
    "│   ├───vid_02.mp4\n",
    "│   ...\n",
    "├───Hksl_carrot\n",
    "│   ...\n",
    "├───Hksl_chef\n",
    "│   ...\n",
    ".\n",
    ".\n",
    ".\n",
    "```"
   ]
  },
  {
   "attachments": {},
   "cell_type": "markdown",
   "metadata": {},
   "source": [
    "(or use our [hksl_jsl_skeletons.zip](https://storage.googleapis.com/bit-studio-static/jobs/shuwa/hksl_jsl_skeletons.zip) ,extract to root directory and skip to step 3)"
   ]
  },
  {
   "attachments": {},
   "cell_type": "markdown",
   "metadata": {},
   "source": [
    "# 2. Preprocess data for training."
   ]
  },
  {
   "attachments": {},
   "cell_type": "markdown",
   "metadata": {},
   "source": [
    "At root dir run  \n",
    "\n",
    "```\n",
    "python -m  scripts.video_to_skeleton my_video_folder skeleton_dir\n",
    "  \n",
    "```\n",
    "to create skeleton file for training.\n",
    "*** \n"
   ]
  },
  {
   "attachments": {},
   "cell_type": "markdown",
   "metadata": {},
   "source": [
    "# 3. Imports"
   ]
  },
  {
   "cell_type": "code",
   "execution_count": 1,
   "metadata": {
    "ExecuteTime": {
     "end_time": "2022-11-29T07:30:36.843933Z",
     "start_time": "2022-11-29T07:30:36.798269Z"
    }
   },
   "outputs": [],
   "source": [
    "%load_ext autoreload\n",
    "%autoreload 2"
   ]
  },
  {
   "cell_type": "code",
   "execution_count": 2,
   "metadata": {
    "ExecuteTime": {
     "end_time": "2022-11-29T07:30:40.635986Z",
     "start_time": "2022-11-29T07:30:36.964460Z"
    }
   },
   "outputs": [],
   "source": [
    "%%capture\n",
    "from tensorflow.keras import backend as K\n",
    "from tensorflow.keras.layers import *\n",
    "from tensorflow.keras.models import Model\n",
    "from tensorflow.keras.optimizers import *\n",
    "from tensorflow.keras.callbacks import *\n",
    "import tensorflow as tf\n",
    "import pickle\n",
    "import gin\n",
    "from tqdm import tqdm\n",
    "import gc\n",
    "from pathlib import Path\n",
    "import glob\n",
    "import cv2\n",
    "import matplotlib.pyplot as plt\n",
    "import os\n",
    "import random\n",
    "import math\n",
    "import numpy as np\n",
    "gin.enter_interactive_mode()\n"
   ]
  },
  {
   "cell_type": "code",
   "execution_count": 3,
   "metadata": {
    "ExecuteTime": {
     "end_time": "2022-11-29T07:30:40.794948Z",
     "start_time": "2022-11-29T07:30:40.637985Z"
    }
   },
   "outputs": [
    {
     "data": {
      "text/plain": [
       "'c:\\\\Users\\\\Anne\\\\Downloads\\\\2025hack\\\\2025hack'"
      ]
     },
     "execution_count": 3,
     "metadata": {},
     "output_type": "execute_result"
    }
   ],
   "source": [
    "# move to root dir.\n",
    "os.chdir(\"..\")\n",
    "os.getcwd()"
   ]
  },
  {
   "cell_type": "code",
   "execution_count": null,
   "metadata": {
    "ExecuteTime": {
     "end_time": "2022-11-29T07:56:32.503539Z",
     "start_time": "2022-11-29T07:56:32.328086Z"
    }
   },
   "outputs": [
    {
     "ename": "ValueError",
     "evalue": "No configurable matching 'modules.translator.translator_manager.TranslatorManager'.\n  In file \"configs/translator.gin\", line 4\n    modules.translator.translator_manager.TranslatorManager.labels = %LABELS\n  In file \"configs/translator_train.gin\", line 1\n    include 'configs/translator.gin'",
     "output_type": "error",
     "traceback": [
      "\u001b[1;31m---------------------------------------------------------------------------\u001b[0m",
      "\u001b[1;31mValueError\u001b[0m                                Traceback (most recent call last)",
      "Cell \u001b[1;32mIn[4], line 2\u001b[0m\n\u001b[0;32m      1\u001b[0m \u001b[38;5;28;01mfrom\u001b[39;00m\u001b[38;5;250m \u001b[39m\u001b[38;5;21;01mmodules\u001b[39;00m\u001b[38;5;250m \u001b[39m\u001b[38;5;28;01mimport\u001b[39;00m translator\n\u001b[1;32m----> 2\u001b[0m \u001b[43mgin\u001b[49m\u001b[38;5;241;43m.\u001b[39;49m\u001b[43mparse_config_file\u001b[49m\u001b[43m(\u001b[49m\u001b[38;5;124;43m'\u001b[39;49m\u001b[38;5;124;43mconfigs/translator_train.gin\u001b[39;49m\u001b[38;5;124;43m'\u001b[39;49m\u001b[43m)\u001b[49m\n\u001b[0;32m      3\u001b[0m gin\u001b[38;5;241m.\u001b[39mparse_config_file(\u001b[38;5;124m'\u001b[39m\u001b[38;5;124mconfigs/utils.gin\u001b[39m\u001b[38;5;124m'\u001b[39m)\n",
      "File \u001b[1;32mc:\\Users\\Anne\\Downloads\\2025hack\\.venv\\lib\\site-packages\\gin\\config.py:2450\u001b[0m, in \u001b[0;36mparse_config_file\u001b[1;34m(config_file, skip_unknown, print_includes_and_imports)\u001b[0m\n\u001b[0;32m   2448\u001b[0m \u001b[38;5;28;01mif\u001b[39;00m existence_check(config_file_with_prefix):\n\u001b[0;32m   2449\u001b[0m   \u001b[38;5;28;01mwith\u001b[39;00m reader(config_file_with_prefix) \u001b[38;5;28;01mas\u001b[39;00m f:\n\u001b[1;32m-> 2450\u001b[0m     includes, imports \u001b[38;5;241m=\u001b[39m \u001b[43mparse_config\u001b[49m\u001b[43m(\u001b[49m\u001b[43mf\u001b[49m\u001b[43m,\u001b[49m\u001b[43m \u001b[49m\u001b[43mskip_unknown\u001b[49m\u001b[38;5;241;43m=\u001b[39;49m\u001b[43mskip_unknown\u001b[49m\u001b[43m)\u001b[49m\n\u001b[0;32m   2451\u001b[0m     results \u001b[38;5;241m=\u001b[39m ParsedConfigFileIncludesAndImports(\n\u001b[0;32m   2452\u001b[0m         filename\u001b[38;5;241m=\u001b[39mconfig_file, imports\u001b[38;5;241m=\u001b[39mimports, includes\u001b[38;5;241m=\u001b[39mincludes)\n\u001b[0;32m   2453\u001b[0m     \u001b[38;5;28;01mif\u001b[39;00m print_includes_and_imports:\n",
      "File \u001b[1;32mc:\\Users\\Anne\\Downloads\\2025hack\\.venv\\lib\\site-packages\\gin\\config.py:2346\u001b[0m, in \u001b[0;36mparse_config\u001b[1;34m(bindings, skip_unknown)\u001b[0m\n\u001b[0;32m   2344\u001b[0m       _print_unknown_import_message(statement, e)\n\u001b[0;32m   2345\u001b[0m \u001b[38;5;28;01melif\u001b[39;00m \u001b[38;5;28misinstance\u001b[39m(statement, config_parser\u001b[38;5;241m.\u001b[39mIncludeStatement):\n\u001b[1;32m-> 2346\u001b[0m   \u001b[38;5;28;01mwith\u001b[39;00m utils\u001b[38;5;241m.\u001b[39mtry_with_location(statement\u001b[38;5;241m.\u001b[39mlocation):\n\u001b[0;32m   2347\u001b[0m     nested_includes \u001b[38;5;241m=\u001b[39m parse_config_file(statement\u001b[38;5;241m.\u001b[39mfilename, skip_unknown)\n\u001b[0;32m   2348\u001b[0m     includes\u001b[38;5;241m.\u001b[39mappend(nested_includes)\n",
      "File \u001b[1;32m~\\AppData\\Local\\Programs\\Python\\Python310\\lib\\contextlib.py:153\u001b[0m, in \u001b[0;36m_GeneratorContextManager.__exit__\u001b[1;34m(self, typ, value, traceback)\u001b[0m\n\u001b[0;32m    151\u001b[0m     value \u001b[38;5;241m=\u001b[39m typ()\n\u001b[0;32m    152\u001b[0m \u001b[38;5;28;01mtry\u001b[39;00m:\n\u001b[1;32m--> 153\u001b[0m     \u001b[38;5;28;43mself\u001b[39;49m\u001b[38;5;241;43m.\u001b[39;49m\u001b[43mgen\u001b[49m\u001b[38;5;241;43m.\u001b[39;49m\u001b[43mthrow\u001b[49m\u001b[43m(\u001b[49m\u001b[43mtyp\u001b[49m\u001b[43m,\u001b[49m\u001b[43m \u001b[49m\u001b[43mvalue\u001b[49m\u001b[43m,\u001b[49m\u001b[43m \u001b[49m\u001b[43mtraceback\u001b[49m\u001b[43m)\u001b[49m\n\u001b[0;32m    154\u001b[0m \u001b[38;5;28;01mexcept\u001b[39;00m \u001b[38;5;167;01mStopIteration\u001b[39;00m \u001b[38;5;28;01mas\u001b[39;00m exc:\n\u001b[0;32m    155\u001b[0m     \u001b[38;5;66;03m# Suppress StopIteration *unless* it's the same exception that\u001b[39;00m\n\u001b[0;32m    156\u001b[0m     \u001b[38;5;66;03m# was passed to throw().  This prevents a StopIteration\u001b[39;00m\n\u001b[0;32m    157\u001b[0m     \u001b[38;5;66;03m# raised inside the \"with\" statement from being suppressed.\u001b[39;00m\n\u001b[0;32m    158\u001b[0m     \u001b[38;5;28;01mreturn\u001b[39;00m exc \u001b[38;5;129;01mis\u001b[39;00m \u001b[38;5;129;01mnot\u001b[39;00m value\n",
      "File \u001b[1;32mc:\\Users\\Anne\\Downloads\\2025hack\\.venv\\lib\\site-packages\\gin\\utils.py:60\u001b[0m, in \u001b[0;36mtry_with_location\u001b[1;34m(location)\u001b[0m\n\u001b[0;32m     58\u001b[0m \u001b[38;5;28;01mif\u001b[39;00m \u001b[38;5;28misinstance\u001b[39m(exception, \u001b[38;5;167;01mSyntaxError\u001b[39;00m):\n\u001b[0;32m     59\u001b[0m   \u001b[38;5;28;01mraise\u001b[39;00m  \u001b[38;5;66;03m# SyntaxErrors already include location information.\u001b[39;00m\n\u001b[1;32m---> 60\u001b[0m \u001b[43maugment_exception_message_and_reraise\u001b[49m\u001b[43m(\u001b[49m\u001b[43mexception\u001b[49m\u001b[43m,\u001b[49m\u001b[43m \u001b[49m\u001b[43m_format_location\u001b[49m\u001b[43m(\u001b[49m\u001b[43mlocation\u001b[49m\u001b[43m)\u001b[49m\u001b[43m)\u001b[49m\n",
      "File \u001b[1;32mc:\\Users\\Anne\\Downloads\\2025hack\\.venv\\lib\\site-packages\\gin\\utils.py:41\u001b[0m, in \u001b[0;36maugment_exception_message_and_reraise\u001b[1;34m(exception, message)\u001b[0m\n\u001b[0;32m     39\u001b[0m proxy \u001b[38;5;241m=\u001b[39m ExceptionProxy()\n\u001b[0;32m     40\u001b[0m ExceptionProxy\u001b[38;5;241m.\u001b[39m\u001b[38;5;18m__qualname__\u001b[39m \u001b[38;5;241m=\u001b[39m \u001b[38;5;28mtype\u001b[39m(exception)\u001b[38;5;241m.\u001b[39m\u001b[38;5;18m__qualname__\u001b[39m\n\u001b[1;32m---> 41\u001b[0m \u001b[38;5;28;01mraise\u001b[39;00m proxy\u001b[38;5;241m.\u001b[39mwith_traceback(exception\u001b[38;5;241m.\u001b[39m__traceback__) \u001b[38;5;28;01mfrom\u001b[39;00m\u001b[38;5;250m \u001b[39m\u001b[38;5;28;01mNone\u001b[39;00m\n",
      "File \u001b[1;32mc:\\Users\\Anne\\Downloads\\2025hack\\.venv\\lib\\site-packages\\gin\\utils.py:56\u001b[0m, in \u001b[0;36mtry_with_location\u001b[1;34m(location)\u001b[0m\n\u001b[0;32m     53\u001b[0m \u001b[38;5;129m@contextlib\u001b[39m\u001b[38;5;241m.\u001b[39mcontextmanager\n\u001b[0;32m     54\u001b[0m \u001b[38;5;28;01mdef\u001b[39;00m\u001b[38;5;250m \u001b[39m\u001b[38;5;21mtry_with_location\u001b[39m(location):\n\u001b[0;32m     55\u001b[0m   \u001b[38;5;28;01mtry\u001b[39;00m:\n\u001b[1;32m---> 56\u001b[0m     \u001b[38;5;28;01myield\u001b[39;00m\n\u001b[0;32m     57\u001b[0m   \u001b[38;5;28;01mexcept\u001b[39;00m \u001b[38;5;167;01mException\u001b[39;00m \u001b[38;5;28;01mas\u001b[39;00m exception:  \u001b[38;5;66;03m# pylint: disable=broad-except\u001b[39;00m\n\u001b[0;32m     58\u001b[0m     \u001b[38;5;28;01mif\u001b[39;00m \u001b[38;5;28misinstance\u001b[39m(exception, \u001b[38;5;167;01mSyntaxError\u001b[39;00m):\n",
      "File \u001b[1;32mc:\\Users\\Anne\\Downloads\\2025hack\\.venv\\lib\\site-packages\\gin\\config.py:2347\u001b[0m, in \u001b[0;36mparse_config\u001b[1;34m(bindings, skip_unknown)\u001b[0m\n\u001b[0;32m   2345\u001b[0m \u001b[38;5;28;01melif\u001b[39;00m \u001b[38;5;28misinstance\u001b[39m(statement, config_parser\u001b[38;5;241m.\u001b[39mIncludeStatement):\n\u001b[0;32m   2346\u001b[0m   \u001b[38;5;28;01mwith\u001b[39;00m utils\u001b[38;5;241m.\u001b[39mtry_with_location(statement\u001b[38;5;241m.\u001b[39mlocation):\n\u001b[1;32m-> 2347\u001b[0m     nested_includes \u001b[38;5;241m=\u001b[39m \u001b[43mparse_config_file\u001b[49m\u001b[43m(\u001b[49m\u001b[43mstatement\u001b[49m\u001b[38;5;241;43m.\u001b[39;49m\u001b[43mfilename\u001b[49m\u001b[43m,\u001b[49m\u001b[43m \u001b[49m\u001b[43mskip_unknown\u001b[49m\u001b[43m)\u001b[49m\n\u001b[0;32m   2348\u001b[0m     includes\u001b[38;5;241m.\u001b[39mappend(nested_includes)\n\u001b[0;32m   2349\u001b[0m \u001b[38;5;28;01melse\u001b[39;00m:\n",
      "File \u001b[1;32mc:\\Users\\Anne\\Downloads\\2025hack\\.venv\\lib\\site-packages\\gin\\config.py:2450\u001b[0m, in \u001b[0;36mparse_config_file\u001b[1;34m(config_file, skip_unknown, print_includes_and_imports)\u001b[0m\n\u001b[0;32m   2448\u001b[0m \u001b[38;5;28;01mif\u001b[39;00m existence_check(config_file_with_prefix):\n\u001b[0;32m   2449\u001b[0m   \u001b[38;5;28;01mwith\u001b[39;00m reader(config_file_with_prefix) \u001b[38;5;28;01mas\u001b[39;00m f:\n\u001b[1;32m-> 2450\u001b[0m     includes, imports \u001b[38;5;241m=\u001b[39m \u001b[43mparse_config\u001b[49m\u001b[43m(\u001b[49m\u001b[43mf\u001b[49m\u001b[43m,\u001b[49m\u001b[43m \u001b[49m\u001b[43mskip_unknown\u001b[49m\u001b[38;5;241;43m=\u001b[39;49m\u001b[43mskip_unknown\u001b[49m\u001b[43m)\u001b[49m\n\u001b[0;32m   2451\u001b[0m     results \u001b[38;5;241m=\u001b[39m ParsedConfigFileIncludesAndImports(\n\u001b[0;32m   2452\u001b[0m         filename\u001b[38;5;241m=\u001b[39mconfig_file, imports\u001b[38;5;241m=\u001b[39mimports, includes\u001b[38;5;241m=\u001b[39mincludes)\n\u001b[0;32m   2453\u001b[0m     \u001b[38;5;28;01mif\u001b[39;00m print_includes_and_imports:\n",
      "File \u001b[1;32mc:\\Users\\Anne\\Downloads\\2025hack\\.venv\\lib\\site-packages\\gin\\config.py:2330\u001b[0m, in \u001b[0;36mparse_config\u001b[1;34m(bindings, skip_unknown)\u001b[0m\n\u001b[0;32m   2328\u001b[0m       bind_parameter((macro_name, \u001b[38;5;124m'\u001b[39m\u001b[38;5;124mgin.macro\u001b[39m\u001b[38;5;124m'\u001b[39m, \u001b[38;5;124m'\u001b[39m\u001b[38;5;124mvalue\u001b[39m\u001b[38;5;124m'\u001b[39m), value)\n\u001b[0;32m   2329\u001b[0m   \u001b[38;5;28;01melif\u001b[39;00m \u001b[38;5;129;01mnot\u001b[39;00m _should_skip(selector, skip_unknown):\n\u001b[1;32m-> 2330\u001b[0m     \u001b[38;5;28;01mwith\u001b[39;00m utils\u001b[38;5;241m.\u001b[39mtry_with_location(location):\n\u001b[0;32m   2331\u001b[0m       bind_parameter((scope, selector, arg_name), value)\n\u001b[0;32m   2332\u001b[0m \u001b[38;5;28;01melif\u001b[39;00m \u001b[38;5;28misinstance\u001b[39m(statement, config_parser\u001b[38;5;241m.\u001b[39mBlockDeclaration):\n",
      "File \u001b[1;32m~\\AppData\\Local\\Programs\\Python\\Python310\\lib\\contextlib.py:153\u001b[0m, in \u001b[0;36m_GeneratorContextManager.__exit__\u001b[1;34m(self, typ, value, traceback)\u001b[0m\n\u001b[0;32m    151\u001b[0m     value \u001b[38;5;241m=\u001b[39m typ()\n\u001b[0;32m    152\u001b[0m \u001b[38;5;28;01mtry\u001b[39;00m:\n\u001b[1;32m--> 153\u001b[0m     \u001b[38;5;28;43mself\u001b[39;49m\u001b[38;5;241;43m.\u001b[39;49m\u001b[43mgen\u001b[49m\u001b[38;5;241;43m.\u001b[39;49m\u001b[43mthrow\u001b[49m\u001b[43m(\u001b[49m\u001b[43mtyp\u001b[49m\u001b[43m,\u001b[49m\u001b[43m \u001b[49m\u001b[43mvalue\u001b[49m\u001b[43m,\u001b[49m\u001b[43m \u001b[49m\u001b[43mtraceback\u001b[49m\u001b[43m)\u001b[49m\n\u001b[0;32m    154\u001b[0m \u001b[38;5;28;01mexcept\u001b[39;00m \u001b[38;5;167;01mStopIteration\u001b[39;00m \u001b[38;5;28;01mas\u001b[39;00m exc:\n\u001b[0;32m    155\u001b[0m     \u001b[38;5;66;03m# Suppress StopIteration *unless* it's the same exception that\u001b[39;00m\n\u001b[0;32m    156\u001b[0m     \u001b[38;5;66;03m# was passed to throw().  This prevents a StopIteration\u001b[39;00m\n\u001b[0;32m    157\u001b[0m     \u001b[38;5;66;03m# raised inside the \"with\" statement from being suppressed.\u001b[39;00m\n\u001b[0;32m    158\u001b[0m     \u001b[38;5;28;01mreturn\u001b[39;00m exc \u001b[38;5;129;01mis\u001b[39;00m \u001b[38;5;129;01mnot\u001b[39;00m value\n",
      "File \u001b[1;32mc:\\Users\\Anne\\Downloads\\2025hack\\.venv\\lib\\site-packages\\gin\\utils.py:60\u001b[0m, in \u001b[0;36mtry_with_location\u001b[1;34m(location)\u001b[0m\n\u001b[0;32m     58\u001b[0m \u001b[38;5;28;01mif\u001b[39;00m \u001b[38;5;28misinstance\u001b[39m(exception, \u001b[38;5;167;01mSyntaxError\u001b[39;00m):\n\u001b[0;32m     59\u001b[0m   \u001b[38;5;28;01mraise\u001b[39;00m  \u001b[38;5;66;03m# SyntaxErrors already include location information.\u001b[39;00m\n\u001b[1;32m---> 60\u001b[0m \u001b[43maugment_exception_message_and_reraise\u001b[49m\u001b[43m(\u001b[49m\u001b[43mexception\u001b[49m\u001b[43m,\u001b[49m\u001b[43m \u001b[49m\u001b[43m_format_location\u001b[49m\u001b[43m(\u001b[49m\u001b[43mlocation\u001b[49m\u001b[43m)\u001b[49m\u001b[43m)\u001b[49m\n",
      "File \u001b[1;32mc:\\Users\\Anne\\Downloads\\2025hack\\.venv\\lib\\site-packages\\gin\\utils.py:41\u001b[0m, in \u001b[0;36maugment_exception_message_and_reraise\u001b[1;34m(exception, message)\u001b[0m\n\u001b[0;32m     39\u001b[0m proxy \u001b[38;5;241m=\u001b[39m ExceptionProxy()\n\u001b[0;32m     40\u001b[0m ExceptionProxy\u001b[38;5;241m.\u001b[39m\u001b[38;5;18m__qualname__\u001b[39m \u001b[38;5;241m=\u001b[39m \u001b[38;5;28mtype\u001b[39m(exception)\u001b[38;5;241m.\u001b[39m\u001b[38;5;18m__qualname__\u001b[39m\n\u001b[1;32m---> 41\u001b[0m \u001b[38;5;28;01mraise\u001b[39;00m proxy\u001b[38;5;241m.\u001b[39mwith_traceback(exception\u001b[38;5;241m.\u001b[39m__traceback__) \u001b[38;5;28;01mfrom\u001b[39;00m\u001b[38;5;250m \u001b[39m\u001b[38;5;28;01mNone\u001b[39;00m\n",
      "File \u001b[1;32mc:\\Users\\Anne\\Downloads\\2025hack\\.venv\\lib\\site-packages\\gin\\utils.py:56\u001b[0m, in \u001b[0;36mtry_with_location\u001b[1;34m(location)\u001b[0m\n\u001b[0;32m     53\u001b[0m \u001b[38;5;129m@contextlib\u001b[39m\u001b[38;5;241m.\u001b[39mcontextmanager\n\u001b[0;32m     54\u001b[0m \u001b[38;5;28;01mdef\u001b[39;00m\u001b[38;5;250m \u001b[39m\u001b[38;5;21mtry_with_location\u001b[39m(location):\n\u001b[0;32m     55\u001b[0m   \u001b[38;5;28;01mtry\u001b[39;00m:\n\u001b[1;32m---> 56\u001b[0m     \u001b[38;5;28;01myield\u001b[39;00m\n\u001b[0;32m     57\u001b[0m   \u001b[38;5;28;01mexcept\u001b[39;00m \u001b[38;5;167;01mException\u001b[39;00m \u001b[38;5;28;01mas\u001b[39;00m exception:  \u001b[38;5;66;03m# pylint: disable=broad-except\u001b[39;00m\n\u001b[0;32m     58\u001b[0m     \u001b[38;5;28;01mif\u001b[39;00m \u001b[38;5;28misinstance\u001b[39m(exception, \u001b[38;5;167;01mSyntaxError\u001b[39;00m):\n",
      "File \u001b[1;32mc:\\Users\\Anne\\Downloads\\2025hack\\.venv\\lib\\site-packages\\gin\\config.py:2331\u001b[0m, in \u001b[0;36mparse_config\u001b[1;34m(bindings, skip_unknown)\u001b[0m\n\u001b[0;32m   2329\u001b[0m   \u001b[38;5;28;01melif\u001b[39;00m \u001b[38;5;129;01mnot\u001b[39;00m _should_skip(selector, skip_unknown):\n\u001b[0;32m   2330\u001b[0m     \u001b[38;5;28;01mwith\u001b[39;00m utils\u001b[38;5;241m.\u001b[39mtry_with_location(location):\n\u001b[1;32m-> 2331\u001b[0m       \u001b[43mbind_parameter\u001b[49m\u001b[43m(\u001b[49m\u001b[43m(\u001b[49m\u001b[43mscope\u001b[49m\u001b[43m,\u001b[49m\u001b[43m \u001b[49m\u001b[43mselector\u001b[49m\u001b[43m,\u001b[49m\u001b[43m \u001b[49m\u001b[43marg_name\u001b[49m\u001b[43m)\u001b[49m\u001b[43m,\u001b[49m\u001b[43m \u001b[49m\u001b[43mvalue\u001b[49m\u001b[43m)\u001b[49m\n\u001b[0;32m   2332\u001b[0m \u001b[38;5;28;01melif\u001b[39;00m \u001b[38;5;28misinstance\u001b[39m(statement, config_parser\u001b[38;5;241m.\u001b[39mBlockDeclaration):\n\u001b[0;32m   2333\u001b[0m   \u001b[38;5;28;01mif\u001b[39;00m \u001b[38;5;129;01mnot\u001b[39;00m _should_skip(statement\u001b[38;5;241m.\u001b[39mselector, skip_unknown):\n",
      "File \u001b[1;32mc:\\Users\\Anne\\Downloads\\2025hack\\.venv\\lib\\site-packages\\gin\\config.py:1051\u001b[0m, in \u001b[0;36mbind_parameter\u001b[1;34m(binding_key, value)\u001b[0m\n\u001b[0;32m   1048\u001b[0m \u001b[38;5;28;01mif\u001b[39;00m config_is_locked():\n\u001b[0;32m   1049\u001b[0m   \u001b[38;5;28;01mraise\u001b[39;00m \u001b[38;5;167;01mRuntimeError\u001b[39;00m(\u001b[38;5;124m'\u001b[39m\u001b[38;5;124mAttempted to modify locked Gin config.\u001b[39m\u001b[38;5;124m'\u001b[39m)\n\u001b[1;32m-> 1051\u001b[0m pbk \u001b[38;5;241m=\u001b[39m \u001b[43mParsedBindingKey\u001b[49m\u001b[38;5;241;43m.\u001b[39;49m\u001b[43mparse\u001b[49m\u001b[43m(\u001b[49m\u001b[43mbinding_key\u001b[49m\u001b[43m)\u001b[49m\n\u001b[0;32m   1052\u001b[0m fn_dict \u001b[38;5;241m=\u001b[39m _CONFIG\u001b[38;5;241m.\u001b[39msetdefault(pbk\u001b[38;5;241m.\u001b[39mconfig_key, {})\n\u001b[0;32m   1053\u001b[0m fn_dict[pbk\u001b[38;5;241m.\u001b[39marg_name] \u001b[38;5;241m=\u001b[39m value\n",
      "File \u001b[1;32mc:\\Users\\Anne\\Downloads\\2025hack\\.venv\\lib\\site-packages\\gin\\config.py:910\u001b[0m, in \u001b[0;36mParsedBindingKey.parse\u001b[1;34m(cls, binding_key)\u001b[0m\n\u001b[0;32m    908\u001b[0m configurable_ \u001b[38;5;241m=\u001b[39m _parse_context()\u001b[38;5;241m.\u001b[39mget_configurable(selector)\n\u001b[0;32m    909\u001b[0m \u001b[38;5;28;01mif\u001b[39;00m \u001b[38;5;129;01mnot\u001b[39;00m configurable_:\n\u001b[1;32m--> 910\u001b[0m   \u001b[43m_raise_unknown_configurable_error\u001b[49m\u001b[43m(\u001b[49m\u001b[43mselector\u001b[49m\u001b[43m)\u001b[49m\n\u001b[0;32m    912\u001b[0m \u001b[38;5;28;01mif\u001b[39;00m configurable_\u001b[38;5;241m.\u001b[39mis_method \u001b[38;5;129;01mand\u001b[39;00m \u001b[38;5;124m'\u001b[39m\u001b[38;5;124m.\u001b[39m\u001b[38;5;124m'\u001b[39m \u001b[38;5;129;01mnot\u001b[39;00m \u001b[38;5;129;01min\u001b[39;00m selector:\n\u001b[0;32m    913\u001b[0m   class_name \u001b[38;5;241m=\u001b[39m configurable_\u001b[38;5;241m.\u001b[39mselector\u001b[38;5;241m.\u001b[39msplit(\u001b[38;5;124m'\u001b[39m\u001b[38;5;124m.\u001b[39m\u001b[38;5;124m'\u001b[39m)[\u001b[38;5;241m-\u001b[39m\u001b[38;5;241m2\u001b[39m]\n",
      "File \u001b[1;32mc:\\Users\\Anne\\Downloads\\2025hack\\.venv\\lib\\site-packages\\gin\\config.py:648\u001b[0m, in \u001b[0;36m_raise_unknown_configurable_error\u001b[1;34m(selector)\u001b[0m\n\u001b[0;32m    647\u001b[0m \u001b[38;5;28;01mdef\u001b[39;00m\u001b[38;5;250m \u001b[39m\u001b[38;5;21m_raise_unknown_configurable_error\u001b[39m(selector):\n\u001b[1;32m--> 648\u001b[0m   \u001b[38;5;28;01mraise\u001b[39;00m \u001b[38;5;167;01mValueError\u001b[39;00m(\u001b[38;5;124mf\u001b[39m\u001b[38;5;124m\"\u001b[39m\u001b[38;5;124mNo configurable matching \u001b[39m\u001b[38;5;124m'\u001b[39m\u001b[38;5;132;01m{\u001b[39;00mselector\u001b[38;5;132;01m}\u001b[39;00m\u001b[38;5;124m'\u001b[39m\u001b[38;5;124m.\u001b[39m\u001b[38;5;124m\"\u001b[39m)\n",
      "\u001b[1;31mValueError\u001b[0m: No configurable matching 'modules.translator.translator_manager.TranslatorManager'.\n  In file \"configs/translator.gin\", line 4\n    modules.translator.translator_manager.TranslatorManager.labels = %LABELS\n  In file \"configs/translator_train.gin\", line 1\n    include 'configs/translator.gin'"
     ]
    }
   ],
   "source": [
    "from modules import translator\n",
    "gin.parse_config_file('configs/translator_train.gin')\n",
    "gin.parse_config_file('configs/utils.gin')"
   ]
  },
  {
   "attachments": {},
   "cell_type": "markdown",
   "metadata": {},
   "source": [
    "# 4. Configs"
   ]
  },
  {
   "cell_type": "code",
   "execution_count": null,
   "metadata": {
    "ExecuteTime": {
     "end_time": "2022-11-29T07:54:49.870396Z",
     "start_time": "2022-11-29T07:54:49.719995Z"
    }
   },
   "outputs": [],
   "source": [
    "skeleton_dir = \"data/skeletons\"\n",
    "checkpoint = None #\"checkpoints/translator/2h20220915.h5\"\n",
    "target_epoch = 100\n",
    "steps_per_epoch = 500\n",
    "\n",
    "# online-hard-mining\n",
    "n_hards = 50"
   ]
  },
  {
   "attachments": {},
   "cell_type": "markdown",
   "metadata": {},
   "source": [
    "# 5. Update labels"
   ]
  },
  {
   "attachments": {},
   "cell_type": "markdown",
   "metadata": {},
   "source": [
    "*When training, we use predefined classes; however, in play mode, we use KNN.\n",
    "We chose this strategy since training directly on the feature head (with triplet loss or contrastive loss) gave us less robustness.*"
   ]
  },
  {
   "cell_type": "code",
   "execution_count": null,
   "metadata": {},
   "outputs": [],
   "source": [
    "h5_glosses = [p.stem for p in Path(skeleton_dir).glob(\"*.h5\")]\n",
    "LABELS = {}\n",
    "for i, g in enumerate(h5_glosses):\n",
    "    LABELS[g] = [i, g]\n",
    "N_CLASSES = len(LABELS.keys())\n",
    "print(\"N_CLASSES\", N_CLASSES)\n",
    "assert N_CLASSES > 1"
   ]
  },
  {
   "cell_type": "code",
   "execution_count": null,
   "metadata": {
    "ExecuteTime": {
     "end_time": "2022-11-29T07:56:28.043267Z",
     "start_time": "2022-11-29T07:56:27.891374Z"
    }
   },
   "outputs": [],
   "source": [
    "with open(\"configs/labels.gin\", \"w\") as f:\n",
    "    dump_dict = json.dumps(LABELS, indent=0,separators=(',', ':'))\n",
    "    f.writelines(f\"LABELS = {dump_dict}\\n\")    \n",
    "    f.writelines(f\"N_CLASSES = {N_CLASSES}\")"
   ]
  },
  {
   "cell_type": "code",
   "execution_count": null,
   "metadata": {},
   "outputs": [],
   "source": [
    "gin.parse_config_file('configs/translator_train.gin')\n",
    "gin.parse_config_file('configs/utils.gin')"
   ]
  },
  {
   "attachments": {},
   "cell_type": "markdown",
   "metadata": {},
   "source": [
    "# 6. Create model"
   ]
  },
  {
   "cell_type": "code",
   "execution_count": null,
   "metadata": {
    "ExecuteTime": {
     "end_time": "2022-11-29T07:56:35.727101Z",
     "start_time": "2022-11-29T07:56:34.740081Z"
    }
   },
   "outputs": [],
   "source": [
    "model = translator.get_model()\n",
    "batch_size = model.outputs[0].shape[0]\n",
    "n_feats = model.outputs[0].shape[1]\n",
    "n_classes = model.outputs[1].shape[1]\n",
    "print(\"batch_size:\", batch_size)\n",
    "print(\"n_feats:\", n_feats)\n",
    "print(\"n_classes:\", n_classes)"
   ]
  },
  {
   "cell_type": "code",
   "execution_count": null,
   "metadata": {
    "ExecuteTime": {
     "end_time": "2022-11-28T10:33:44.675561Z",
     "start_time": "2022-11-28T10:33:44.505361Z"
    }
   },
   "outputs": [],
   "source": [
    "if checkpoint is not None:\n",
    "    model.load_weights(checkpoint)"
   ]
  },
  {
   "attachments": {},
   "cell_type": "markdown",
   "metadata": {},
   "source": [
    "# 7. Data Generator"
   ]
  },
  {
   "cell_type": "code",
   "execution_count": null,
   "metadata": {
    "ExecuteTime": {
     "end_time": "2022-11-28T10:34:29.475955Z",
     "start_time": "2022-11-28T10:33:44.680546Z"
    },
    "code_folding": []
   },
   "outputs": [],
   "source": [
    "train_generator = translator.DataGenerator(skeleton_dir)"
   ]
  },
  {
   "cell_type": "code",
   "execution_count": null,
   "metadata": {
    "ExecuteTime": {
     "end_time": "2022-11-28T10:34:29.663800Z",
     "start_time": "2022-11-28T10:34:29.478951Z"
    }
   },
   "outputs": [],
   "source": [
    "assert len(train_generator.labels_dict) == N_CLASSES"
   ]
  },
  {
   "attachments": {},
   "cell_type": "markdown",
   "metadata": {},
   "source": [
    "# 8. Train"
   ]
  },
  {
   "cell_type": "code",
   "execution_count": null,
   "metadata": {
    "ExecuteTime": {
     "end_time": "2022-11-28T10:34:30.023097Z",
     "start_time": "2022-11-28T10:34:29.838801Z"
    }
   },
   "outputs": [],
   "source": [
    "optimizer = tf.optimizers.Adam(1e-3)\n",
    "\n",
    "acc_metrics = tf.keras.metrics.SparseCategoricalAccuracy()\n",
    "cce = tf.keras.losses.SparseCategoricalCrossentropy(\n",
    "    reduction=tf.keras.losses.Reduction.NONE, from_logits=True)"
   ]
  },
  {
   "cell_type": "code",
   "execution_count": null,
   "metadata": {
    "ExecuteTime": {
     "end_time": "2022-11-28T14:06:59.275690Z",
     "start_time": "2022-11-28T10:34:56.310835Z"
    },
    "scrolled": false
   },
   "outputs": [],
   "source": [
    "initial_epoch = 0\n",
    "hards = None\n",
    "\n",
    "\n",
    "@tf.function\n",
    "def custom_train_step(inputs, y_true):\n",
    "    with tf.GradientTape() as tape:\n",
    "        feats_pred, cls_pred = model(inputs, training=True)\n",
    "\n",
    "        cls_loss = cce(y_true, cls_pred)\n",
    "\n",
    "    grads = tape.gradient(cls_loss, model.trainable_weights)\n",
    "    optimizer.apply_gradients(zip(grads, model.trainable_weights))\n",
    "    acc_metrics.update_state(y_true, cls_pred)\n",
    "\n",
    "    return cls_loss\n",
    "\n",
    "\n",
    "for ep in range(initial_epoch, target_epoch):\n",
    "    acc_metrics.reset_states()\n",
    "    dh = display(\"\", display_id=True)\n",
    "\n",
    "    for step in range(steps_per_epoch):\n",
    "        inputs, y_true = train_generator.__getitem__(0, hards)\n",
    "        cls_loss = custom_train_step(inputs, y_true)\n",
    "        cls_loss_np = cls_loss.numpy()\n",
    "\n",
    "        # Online Hard Mining\n",
    "        hards_b = np.argsort(cls_loss_np)[-n_hards:]\n",
    "        hards = y_true[hards_b].squeeze().tolist()\n",
    "\n",
    "        dh.update(f\"epoch-{ep:02d} step-{step} cls_loss-{np.mean(cls_loss_np):.4f} acc-{acc_metrics.result().numpy():.4f}\")\n",
    "\n",
    "    if ep % 5 == 0:\n",
    "        filepath=f\"train_ckpts/{ep:02d}_{acc_metrics.result().numpy():.3f}.h5\"\n",
    "        model.save_weights(filepath)"
   ]
  }
 ],
 "metadata": {
  "kernelspec": {
   "display_name": ".venv",
   "language": "python",
   "name": "python3"
  },
  "language_info": {
   "codemirror_mode": {
    "name": "ipython",
    "version": 3
   },
   "file_extension": ".py",
   "mimetype": "text/x-python",
   "name": "python",
   "nbconvert_exporter": "python",
   "pygments_lexer": "ipython3",
   "version": "3.10.11"
  },
  "toc": {
   "base_numbering": 1,
   "nav_menu": {},
   "number_sections": true,
   "sideBar": true,
   "skip_h1_title": false,
   "title_cell": "Table of Contents",
   "title_sidebar": "Contents",
   "toc_cell": false,
   "toc_position": {
    "height": "calc(100% - 180px)",
    "left": "10px",
    "top": "150px",
    "width": "187.6px"
   },
   "toc_section_display": true,
   "toc_window_display": true
  },
  "varInspector": {
   "cols": {
    "lenName": 16,
    "lenType": 16,
    "lenVar": 40
   },
   "kernels_config": {
    "python": {
     "delete_cmd_postfix": "",
     "delete_cmd_prefix": "del ",
     "library": "var_list.py",
     "varRefreshCmd": "print(var_dic_list())"
    },
    "r": {
     "delete_cmd_postfix": ") ",
     "delete_cmd_prefix": "rm(",
     "library": "var_list.r",
     "varRefreshCmd": "cat(var_dic_list()) "
    }
   },
   "types_to_exclude": [
    "module",
    "function",
    "builtin_function_or_method",
    "instance",
    "_Feature"
   ],
   "window_display": false
  }
 },
 "nbformat": 4,
 "nbformat_minor": 2
}
