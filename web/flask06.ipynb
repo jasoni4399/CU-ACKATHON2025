{
 "cells": [
  {
   "cell_type": "code",
   "execution_count": null,
   "id": "7aefce5a",
   "metadata": {},
   "outputs": [
    {
     "name": "stdout",
     "output_type": "stream",
     "text": [
      " * Serving Flask app '__main__'\n",
      " * Debug mode: off\n"
     ]
    },
    {
     "name": "stderr",
     "output_type": "stream",
     "text": [
      "WARNING: This is a development server. Do not use it in a production deployment. Use a production WSGI server instead.\n",
      " * Running on http://127.0.0.1:5000\n",
      "Press CTRL+C to quit\n",
      "127.0.0.1 - - [01/Mar/2025 15:30:49] \"GET / HTTP/1.1\" 200 -\n"
     ]
    }
   ],
   "source": [
    "import numpy as np\n",
    "import cv2\n",
    "from flask import Flask, render_template, request,Response,jsonify\n",
    "\n",
    "class VideoCamera(object):\n",
    "    def __init__(self):\n",
    "        self.video = cv2.VideoCapture(0)\n",
    "\n",
    "    def __del__(self):\n",
    "        self.video.release()        \n",
    "\n",
    "    def get_frame(self):\n",
    "        ret, frame = self.video.read()\n",
    "        while frame is None:\n",
    "            self.video = cv2.VideoCapture(0)\n",
    "            ret, frame = self.video.read()\n",
    "\n",
    "        # DO WHAT YOU WANT WITH TENSORFLOW / KERAS AND OPENCV\n",
    "\n",
    "        ret, jpeg = cv2.imencode('.jpg', frame)\n",
    "\n",
    "        return jpeg.tobytes()\n",
    "\n",
    "app = Flask(__name__)\n",
    "\n",
    "video_stream = VideoCamera()\n",
    "#close the cam when the app is closed\n",
    "@app.teardown_appcontext    \n",
    "def close_camera(exception):\n",
    "    video_stream.__del__()\n",
    "\n",
    "\n",
    "def gen(camera):    \n",
    "    while True:\n",
    "        frame = camera.get_frame()\n",
    "        if frame is not None:\n",
    "            yield (b'--frame\\r\\n'\n",
    "               b'Content-Type: image/jpeg\\r\\n\\r\\n' + frame + b'\\r\\n\\r\\n')\n",
    "\n",
    "@app.route('/video_feed')\n",
    "def video_feed():\n",
    "     return Response(gen(video_stream),\n",
    "                    mimetype='multipart/x-mixed-replace; boundary=frame')\n",
    "\n",
    "@app.route('/')\n",
    "def index():\n",
    "    return render_template('index.html')\n",
    "\n",
    "if __name__ == '__main__':\n",
    "    app.run()"
   ]
  }
 ],
 "metadata": {
  "kernelspec": {
   "display_name": "Python 3",
   "language": "python",
   "name": "python3"
  },
  "language_info": {
   "codemirror_mode": {
    "name": "ipython",
    "version": 3
   },
   "file_extension": ".py",
   "mimetype": "text/x-python",
   "name": "python",
   "nbconvert_exporter": "python",
   "pygments_lexer": "ipython3",
   "version": "3.10.16"
  }
 },
 "nbformat": 4,
 "nbformat_minor": 5
}
